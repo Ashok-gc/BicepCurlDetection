{
 "cells": [
  {
   "cell_type": "code",
   "execution_count": 7,
   "metadata": {},
   "outputs": [],
   "source": [
    "# importing libraries and packages\n",
    "\n",
    "import numpy as np\n",
    "import mediapipe as mp\n",
    "import cv2"
   ]
  },
  {
   "cell_type": "code",
   "execution_count": 2,
   "metadata": {},
   "outputs": [],
   "source": [
    "#connecting keypoints visuals\n",
    "mp_drawing = mp.solutions.drawing_utils\n",
    "#keypoint   detection\n",
    "mp_pose = mp.solutions.pose"
   ]
  },
  {
   "cell_type": "code",
   "execution_count": 3,
   "metadata": {},
   "outputs": [
    {
     "name": "stdout",
     "output_type": "stream",
     "text": [
      "0\n",
      "1\n",
      "2\n",
      "3\n",
      "4\n",
      "5\n",
      "6\n",
      "7\n",
      "8\n",
      "9\n",
      "10\n",
      "11\n",
      "12\n",
      "13\n",
      "14\n",
      "15\n",
      "16\n",
      "17\n",
      "18\n",
      "19\n",
      "20\n",
      "21\n",
      "22\n",
      "23\n",
      "24\n",
      "25\n",
      "26\n",
      "27\n",
      "28\n",
      "29\n",
      "30\n",
      "31\n",
      "32\n"
     ]
    }
   ],
   "source": [
    "#sequential mapping of the landmarks with body parts\n",
    "count = 0\n",
    "for i in mp_pose.PoseLandmark:\n",
    "    print(i)\n",
    "    count += 1"
   ]
  },
  {
   "cell_type": "code",
   "execution_count": 5,
   "metadata": {},
   "outputs": [],
   "source": [
    "# 3d points of the landmarks\n",
    "def calc_angle(a,b,c):\n",
    "    a = np.array([a.x,a.y])\n",
    "    b = np.array([b.x,b.y])\n",
    "    c = np.array([c.x,c.y])\n",
    "    \n",
    "    ab=np.subtract(a,b)\n",
    "    bc=np.subtract(b,c)\n",
    "\n",
    "    theta = np.arccos(np.dot(ab,bc)/(np.linalg.norm(ab)*np.linalg.norm(bc)))\n",
    "    theta = 180 -180*theta/3.14\n",
    "    return np.round(theta,2)"
   ]
  },
  {
   "cell_type": "code",
   "execution_count": 8,
   "metadata": {},
   "outputs": [],
   "source": [
    "#flag which stores hand position\n",
    "flag = None\n",
    "count = 0\n",
    "#video capture\n",
    "cap = cv2.VideoCapture(0)\n",
    "#initializing pose\n",
    "pose = mp_pose.Pose(min_detection_confidence=0.5,min_tracking_confidence=0.5)\n",
    "while cap.isOpened():\n",
    "    _, frame = cap.read()\n",
    "\n",
    "    #recoloring the image to RGB\n",
    "    image = cv2.cvtColor(frame,cv2.COLOR_BGR2RGB)\n",
    "    image.flags.writeable = False\n",
    "\n",
    "    #detection\n",
    "    results = pose.process(image)\n",
    "\n",
    "    #recoloring back to BGR\n",
    "    image.flags.writeable = True\n",
    "    image = cv2.cvtColor(image,cv2.COLOR_RGB2BGR)\n",
    "\n",
    "    #extracting landmarks\n",
    "    try:\n",
    "        landmarks = results.pose_landmarks.landmark\n",
    "        shoulder = landmarks[mp_pose.PoseLandmark.LEFT_SHOULDER.value]\n",
    "        elbow = landmarks[mp_pose.PoseLandmark.LEFT_ELBOW.value]\n",
    "        wrist = landmarks[mp_pose.PoseLandmark.LEFT_WRIST.value]\n",
    "\n",
    "        #calculating angle\n",
    "        angle = calc_angle(shoulder,elbow,wrist)\n",
    "\n",
    "        #visualizing angle\n",
    "        cv2.putText(image,str(angle),tuple(np.multiply([elbow.x,elbow.y],[640,480]).astype(int)),cv2.FONT_HERSHEY_SIMPLEX,0.5,(255,255,255),2,cv2.LINE_AA)\n",
    "\n",
    "        #curl counter logic\n",
    "        if angle > 160:\n",
    "            flag = \"down\"\n",
    "        if angle < 30 and flag == \"down\":\n",
    "            count += 1\n",
    "            flag = \"up\"\n",
    "        cv2.putText(image,'COUNT: '+str(count),(50,50),cv2.FONT_HERSHEY_SIMPLEX,0.5,(0,0,255),2,cv2.LINE_AA)\n",
    "    except:\n",
    "        pass\n",
    "\n",
    "    # setup status box\n",
    "    cv2.rectangle(image, (0,0), (225,73), (245,117,16), -1)\n",
    "    cv2.putText(image, str(count), (10,60), cv2.FONT_HERSHEY_SIMPLEX, 2, (255,255,255), 2, cv2.LINE_AA)\n",
    "    # render detections\n",
    "    mp_drawing.draw_landmarks(image, results.pose_landmarks, mp_pose.POSE_CONNECTIONS,\n",
    "                            mp_drawing.DrawingSpec(color=(245,117,66), thickness=2, circle_radius=2),\n",
    "                            mp_drawing.DrawingSpec(color=(245,66,230), thickness=2, circle_radius=2)\n",
    "                            )\n",
    "    cv2.imshow('Biceps Curl Counter', image)\n",
    "\n",
    "    if cv2.waitKey(10) & 0xFF == ord('q'):\n",
    "        break\n",
    "\n",
    "cap.release()\n",
    "cv2.destroyAllWindows()"
   ]
  },
  {
   "cell_type": "code",
   "execution_count": null,
   "metadata": {},
   "outputs": [],
   "source": []
  }
 ],
 "metadata": {
  "kernelspec": {
   "display_name": "Python 3",
   "language": "python",
   "name": "python3"
  },
  "language_info": {
   "codemirror_mode": {
    "name": "ipython",
    "version": 3
   },
   "file_extension": ".py",
   "mimetype": "text/x-python",
   "name": "python",
   "nbconvert_exporter": "python",
   "pygments_lexer": "ipython3",
   "version": "3.11.4"
  },
  "orig_nbformat": 4
 },
 "nbformat": 4,
 "nbformat_minor": 2
}
